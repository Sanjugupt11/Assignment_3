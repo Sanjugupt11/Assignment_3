{
 "cells": [
  {
   "cell_type": "code",
   "execution_count": null,
   "id": "95678e30-f20a-434b-a485-138fc1083a71",
   "metadata": {},
   "outputs": [],
   "source": [
    "#Q1.  Explain with an example each when to use a for loop and a while loop. \n",
    "For loop: A for loop is a control flow statement that executes code repeatedly for a particular number of iterations. In this control flow statement,\n",
    "the keyword used is for. The for loop is used when the number of iterations is already known.\n",
    "n = [1, 2, 3]  \n",
    "for i in n:  \n",
    "    print(i)\n",
    "While loop: A loop that executes a single statement or a group of statements for the given true condition. The keyword used to represent this loop is \"while\".\n",
    "A \"while\" loop is used when the number of iterations is unknown. The statement repeats itself till the boolean value becomes false. In a while loop, the \n",
    "condition is tested at the start, also known as the pre-test loop.\n",
    "i = 1  \n",
    "while i < 6:  \n",
    "    print(i)\n",
    "    i += 1"
   ]
  },
  {
   "cell_type": "code",
   "execution_count": 4,
   "id": "2f13eb48-4e58-4d46-b69f-c55cf587d449",
   "metadata": {},
   "outputs": [
    {
     "name": "stdout",
     "output_type": "stream",
     "text": [
      "1 2 3 4 5 6 7 8 9 10 \n",
      "\n",
      "The sum of all natural number is:-  55\n",
      "The product of all natural number is:-  3628800\n"
     ]
    }
   ],
   "source": [
    "# Q2) Write a python program to print the sum and product of the first 10 natural numbers using for  and while loop. \n",
    "#for loop \n",
    "A=[1,2,3,4,5,6,7,8,9,10]\n",
    "sum=0\n",
    "mul=1\n",
    "for i in A:\n",
    "    sum=sum+i\n",
    "    mul=mul*i\n",
    "    print(i,end=\" \" )\n",
    "print(\"\\n\")\n",
    "print(\"The sum of all natural number is:- \",sum)\n",
    "print(\"The product of all natural number is:- \",mul)"
   ]
  },
  {
   "cell_type": "code",
   "execution_count": 3,
   "id": "df65afd8-45c9-4a81-8971-9537059491f2",
   "metadata": {},
   "outputs": [
    {
     "name": "stdout",
     "output_type": "stream",
     "text": [
      "The sum is:  55\n",
      "The product is:  3628800\n"
     ]
    }
   ],
   "source": [
    "#while loop \n",
    "n = 10\n",
    "i = 1\n",
    "sum = 0\n",
    "mul=1\n",
    "while (i <= n):\n",
    "    sum = sum + i\n",
    "    mul=mul*i\n",
    "    i = i + 1\n",
    "print(\"The sum is: \", sum)\n",
    "print(\"The product is: \", mul)"
   ]
  },
  {
   "cell_type": "code",
   "execution_count": 7,
   "id": "9ea8ac16-04d7-48e3-b098-b749bb63e592",
   "metadata": {},
   "outputs": [
    {
     "name": "stdin",
     "output_type": "stream",
     "text": [
      "Enter a unit 255\n"
     ]
    },
    {
     "name": "stdout",
     "output_type": "stream",
     "text": [
      "The per-unit charges in rupees Rs.10 per unit\n"
     ]
    }
   ],
   "source": [
    "'''Q3. Create a python program to compute the electricity bill for a household. \n",
    "The per-unit charges in rupees are as follows: For the first 100 units, the user will be charged Rs. 4.5 per  unit, \n",
    "for the next 100 units, the user will be charged Rs. 6 per unit, and for the next 100 units, the user will  be charged\n",
    "Rs. 10 per unit, After 300 units and above the user will be charged Rs. 20 per unit.'''\n",
    "\n",
    "charges=int(input(\"Enter a units of electricity consumed in a month\"))\n",
    "if charges<=100:\n",
    "    print(\"The per-unit charges in rupees Rs.4.5 per unit \")\n",
    "elif charges>100 and charges<=200:\n",
    "    print(\"The per-unit charges in rupees Rs.6 per unit\")\n",
    "elif charges>200 and charges<=300:\n",
    "    print(\"The per-unit charges in rupees Rs.10 per unit\")\n",
    "else:\n",
    "     print(\"The per-unit charges in rupees Rs.20 per unit\")\n"
   ]
  },
  {
   "cell_type": "code",
   "execution_count": 102,
   "id": "843aef40-66ba-40ce-9876-6fba7daab160",
   "metadata": {},
   "outputs": [
    {
     "name": "stdout",
     "output_type": "stream",
     "text": [
      "[1, 2, 3, 4, 5, 6, 7, 8, 9, 10, 11, 12, 13, 14, 15, 16, 17, 18, 19, 20, 21, 22, 23, 24, 25, 26, 27, 28, 29, 30, 31, 32, 33, 34, 35, 36, 37, 38, 39, 40, 41, 42, 43, 44, 45, 46, 47, 48, 49, 50, 51, 52, 53, 54, 55, 56, 57, 58, 59, 60, 61, 62, 63, 64, 65, 66, 67, 68, 69, 70, 71, 72, 73, 74, 75, 76, 77, 78, 79, 80, 81, 82, 83, 84, 85, 86, 87, 88, 89, 90, 91, 92, 93, 94, 95, 96, 97, 98, 99, 100]\n",
      "1 8 27 64 125 216 343 512 729 1000 1331 1728 2197 2744 3375 4096 4913 5832 6859 8000 9261 10648 12167 13824 15625 17576 19683 21952 24389 27000 29791 32768 35937 39304 42875 46656 50653 54872 59319 64000 68921 74088 79507 85184 91125 97336 103823 110592 117649 125000 132651 140608 148877 157464 166375 175616 185193 195112 205379 216000 226981 238328 250047 262144 274625 287496 300763 314432 328509 343000 357911 373248 389017 405224 421875 438976 456533 474552 493039 512000 531441 551368 571787 592704 614125 636056 658503 681472 704969 729000 753571 778688 804357 830584 857375 884736 912673 941192 970299 1000000 \n",
      " [8, 64, 125, 216, 512, 1000, 1728, 2744, 3375, 4096, 5832, 8000, 10648, 13824, 15625, 17576, 21952, 27000, 32768, 39304, 42875, 46656, 54872, 64000, 74088, 85184, 91125, 97336, 110592, 125000, 140608, 157464, 166375, 175616, 195112, 216000, 238328, 262144, 274625, 287496, 314432, 343000, 373248, 405224, 421875, 438976, 474552, 512000, 551368, 592704, 614125, 636056, 681472, 729000, 778688, 830584, 857375, 884736, 941192, 1000000]\n"
     ]
    }
   ],
   "source": [
    "'''Q4. Create a list of numbers from 1 to 100. Use for loop and while loop to calculate the cube of each  number and if \n",
    "the cube of that number is divisible by 4 or 5 then append that number in a list and print  that list.'''\n",
    "#for loop \n",
    "num = []\n",
    "B=[]\n",
    "C=[]\n",
    "A=1\n",
    "for i in range(100):\n",
    "    i=i+1\n",
    "    num.append(i)  \n",
    "print(num)\n",
    "for i in num:\n",
    "    A=i*i*i\n",
    "    B.append(A)  \n",
    "    print(A,end=\" \")\n",
    "for i in B:\n",
    "    if i%4==0 or i%5==0:\n",
    "        C.append(i)\n",
    "print('\\n',C)\n",
    "\n"
   ]
  },
  {
   "cell_type": "code",
   "execution_count": null,
   "id": "24adc695-9aa2-4c0a-bbf9-baff553e07aa",
   "metadata": {},
   "outputs": [],
   "source": [
    "# while loop\n",
    "um_list=[]\n",
    "start=1\n",
    "while start<=100:\n",
    "    cube=start**3\n",
    "    print(cube,end=\" \")\n",
    "    if(cube%4==0) or(cube%5==0):\n",
    "        num_list.append(start)\n",
    "    start+=1\n",
    "print(num_list)\n"
   ]
  },
  {
   "cell_type": "code",
   "execution_count": 5,
   "id": "2506329d-5634-41a7-a900-bf447c7d8b9c",
   "metadata": {},
   "outputs": [
    {
     "name": "stdout",
     "output_type": "stream",
     "text": [
      "I a o e o e a a a i e i The count of vowels are present I want to become a data scientist: 12\n"
     ]
    }
   ],
   "source": [
    "'''Q5.  Write a program to filter count vowels in the below-given string. \n",
    "string = \"I want to become a data scientist\" '''\n",
    "A=[]\n",
    "for i in \"I want to become a data scientist\":\n",
    "    if i.lower() in ['a', 'e', 'i', 'o', 'u']:\n",
    "        i.count( \"I want to become a data scientist\")\n",
    "        print(i,end=\" \")\n",
    "        \n",
    "        A.append(i)\n",
    "print(\"The count of vowels are present I want to become a data scientist:\",len(A))\n",
    "\n"
   ]
  },
  {
   "cell_type": "code",
   "execution_count": 1,
   "id": "bf4f2e96-a6f3-4a64-ad31-eeb007f958ab",
   "metadata": {},
   "outputs": [
    {
     "data": {
      "text/plain": [
       "'p w s k i l l s'"
      ]
     },
     "execution_count": 1,
     "metadata": {},
     "output_type": "execute_result"
    }
   ],
   "source": [
    "string = \"p w s k i l l s\"\n",
    "\n",
    "\" \".join(string.replace(\" \", \"\"))"
   ]
  },
  {
   "cell_type": "code",
   "execution_count": 2,
   "id": "b4fa2ec5-be16-41f3-bb76-20da2217426b",
   "metadata": {},
   "outputs": [
    {
     "data": {
      "text/plain": [
       "True"
      ]
     },
     "execution_count": 2,
     "metadata": {},
     "output_type": "execute_result"
    }
   ],
   "source": [
    "\"pwskills\"[::-1].upper().replace(\"SLLIKSWP\", \"pwskills\").islower()"
   ]
  },
  {
   "cell_type": "code",
   "execution_count": 3,
   "id": "3f948677-8f2a-4572-b1a6-cb230c2443c2",
   "metadata": {},
   "outputs": [
    {
     "name": "stdout",
     "output_type": "stream",
     "text": [
      "I\n",
      "Want\n",
      "To\n",
      "Become\n",
      "A\n",
      "Data\n",
      "Scientist\n"
     ]
    }
   ],
   "source": [
    "s = \"I want to become a data scientist\"\n",
    "\n",
    "for i in s.split():\n",
    "\n",
    "    i.capitalize()\n",
    "\n",
    "    print(i.title())"
   ]
  },
  {
   "cell_type": "code",
   "execution_count": null,
   "id": "5ace1934-ff9b-4f1a-8cc0-bc7da76f835e",
   "metadata": {},
   "outputs": [],
   "source": []
  }
 ],
 "metadata": {
  "kernelspec": {
   "display_name": "Python 3 (ipykernel)",
   "language": "python",
   "name": "python3"
  },
  "language_info": {
   "codemirror_mode": {
    "name": "ipython",
    "version": 3
   },
   "file_extension": ".py",
   "mimetype": "text/x-python",
   "name": "python",
   "nbconvert_exporter": "python",
   "pygments_lexer": "ipython3",
   "version": "3.10.6"
  }
 },
 "nbformat": 4,
 "nbformat_minor": 5
}
